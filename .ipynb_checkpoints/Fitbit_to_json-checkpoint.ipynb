{
 "cells": [
  {
   "cell_type": "code",
   "execution_count": 1,
   "metadata": {
    "collapsed": true
   },
   "outputs": [],
   "source": [
    "import pandas as pd\n",
    "import glob\n",
    "import time\n",
    "\n",
    "start_time = time.time()\n"
   ]
  },
  {
   "cell_type": "code",
   "execution_count": 5,
   "metadata": {
    "collapsed": true
   },
   "outputs": [],
   "source": [
    "\n",
    "\n",
    "def get_json_to_df(file_list = []):\n",
    "    df_list = []\n",
    "    for json_file in file_list[:1]:\n",
    "        df_list.append(pd.read_json(json_file))\n",
    "    df = pd.concat(df_list)\n",
    "    return df\n",
    "\n",
    "def merge_dataframes(df1,df2):\n",
    "    merged = pd.merge(df1, df2,how='outer', on='dateTime')\n",
    "    return merged\n",
    "\n",
    "def merged_to_datetime(merged):\n",
    "    merged['dateTime'] = pd.to_datetime(merged['dateTime'], format='%m/%d/%y %H:%M:%S')\n",
    "    merged = merged.sort_values(by='dateTime')\n",
    "    return merged\n",
    "\n",
    "def make_new_df_value(x='',column_name=''):\n",
    "    try:\n",
    "        x = x[column_name]\n",
    "    except Exception as e:\n",
    "        print(e)\n",
    "        x = 0.0\n",
    "    return x\n",
    "    \n",
    "\n"
   ]
  },
  {
   "cell_type": "code",
   "execution_count": 6,
   "metadata": {},
   "outputs": [
    {
     "name": "stdout",
     "output_type": "stream",
     "text": [
      "###Time taken to make files lists 23.576950788497925\n"
     ]
    }
   ],
   "source": [
    "## Creating lists of all the respective files in the directory\n",
    "heart_rate_file_list = glob.glob('data/user-site-export/heart_rate-*')\n",
    "steps_file_list = glob.glob('data/user-site-export/steps-*')\n",
    "altitude_file_list = glob.glob('data/user-site-export/altitude-*')\n",
    "calories_file_list = glob.glob('data/user-site-export/calories-*')\n",
    "\n",
    "\n",
    "making_file_lists = time.time()\n",
    "print(\"###Time taken to make files lists\",making_file_lists-start_time)\n"
   ]
  },
  {
   "cell_type": "code",
   "execution_count": null,
   "metadata": {},
   "outputs": [],
   "source": []
  },
  {
   "cell_type": "code",
   "execution_count": 7,
   "metadata": {},
   "outputs": [
    {
     "name": "stdout",
     "output_type": "stream",
     "text": [
      "###Time taken to load and transform json files 26.144575119018555\n"
     ]
    },
    {
     "ename": "NameError",
     "evalue": "name 'function_time' is not defined",
     "output_type": "error",
     "traceback": [
      "\u001b[0;31m---------------------------------------------------------------------------\u001b[0m",
      "\u001b[0;31mNameError\u001b[0m                                 Traceback (most recent call last)",
      "\u001b[0;32m<ipython-input-7-91c72a519738>\u001b[0m in \u001b[0;36m<module>\u001b[0;34m()\u001b[0m\n\u001b[1;32m     17\u001b[0m \u001b[0;34m\u001b[0m\u001b[0m\n\u001b[1;32m     18\u001b[0m \u001b[0;34m\u001b[0m\u001b[0m\n\u001b[0;32m---> 19\u001b[0;31m \u001b[0mprint\u001b[0m\u001b[0;34m(\u001b[0m\u001b[0;34m'## Time taken'\u001b[0m\u001b[0;34m,\u001b[0m\u001b[0mfunction_time\u001b[0m\u001b[0;34m)\u001b[0m\u001b[0;34m\u001b[0m\u001b[0m\n\u001b[0m",
      "\u001b[0;31mNameError\u001b[0m: name 'function_time' is not defined"
     ]
    }
   ],
   "source": [
    "## reading json into dataframes\n",
    "heart_rate_df = get_json_to_df(file_list = heart_rate_file_list).reset_index()\n",
    "## Heart rate contains a sub json that are explicitly converted into column\n",
    "heart_rate_df['bpm'] = heart_rate_df['value'].transform(lambda x: make_new_df_value(x,'bpm'))\n",
    "heart_rate_df['confidence'] = heart_rate_df['value'].transform(lambda x: make_new_df_value(x,'confidence'))\n",
    "heart_rate_df = heart_rate_df.drop(['value','index'],axis=1)\n",
    "\n",
    "\n",
    "steps_df = get_json_to_df(file_list = steps_file_list).rename(columns={'value': 'steps'})\n",
    "\n",
    "altitude_df = get_json_to_df(file_list = altitude_file_list).rename(columns={'value': 'altitude'})\n",
    "calories_df = get_json_to_df(file_list = calories_file_list).rename(columns={'value': 'calories'})\n",
    "\n",
    "load_json_time = time.time()\n",
    "print(\"###Time taken to load and transform json files\",load_json_time-making_file_lists)\n",
    "\n",
    "\n",
    "\n"
   ]
  },
  {
   "cell_type": "code",
   "execution_count": null,
   "metadata": {
    "collapsed": true
   },
   "outputs": [],
   "source": [
    "merged = merge_dataframes(heart_rate_df,steps_df)\n",
    "merged = merge_dataframes(merged,altitude_df)\n",
    "merged = merge_dataframes(merged,calories_df)\n",
    "merged = merged_to_datetime(merged)\n",
    "\n",
    "merged.to_csv('merged_export_data.csv')\n",
    "\n",
    "merging_time = time.time()\n",
    "print(\"###Time taken to merge dataframess\",merging_time-load_json_time)\n",
    "\n",
    "\n",
    "\n",
    "function_time = time.time() - start_time"
   ]
  },
  {
   "cell_type": "code",
   "execution_count": null,
   "metadata": {
    "collapsed": true
   },
   "outputs": [],
   "source": [
    "display(merged.head(100))"
   ]
  }
 ],
 "metadata": {
  "kernelspec": {
   "display_name": "Python 3",
   "language": "python",
   "name": "python3"
  },
  "language_info": {
   "codemirror_mode": {
    "name": "ipython",
    "version": 3
   },
   "file_extension": ".py",
   "mimetype": "text/x-python",
   "name": "python",
   "nbconvert_exporter": "python",
   "pygments_lexer": "ipython3",
   "version": "3.6.1"
  }
 },
 "nbformat": 4,
 "nbformat_minor": 2
}
