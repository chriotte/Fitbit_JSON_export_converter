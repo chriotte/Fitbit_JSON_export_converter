{
 "cells": [
  {
   "cell_type": "code",
   "execution_count": 10,
   "metadata": {
    "collapsed": true
   },
   "outputs": [],
   "source": [
    "import pandas as pd\n",
    "import glob\n",
    "import time"
   ]
  },
  {
   "cell_type": "code",
   "execution_count": 11,
   "metadata": {
    "collapsed": true
   },
   "outputs": [],
   "source": [
    "\n",
    "\n",
    "def get_json_to_df(file_list = []):\n",
    "    df_list = []\n",
    "    for json_file in file_list[:1]:\n",
    "        df_list.append(pd.read_json(json_file))\n",
    "    df = pd.concat(df_list)\n",
    "    return df\n",
    "\n",
    "def merge_dataframes(df1,df2):\n",
    "    merged = pd.merge(df1, df2,how='outer', on='dateTime')\n",
    "    return merged\n",
    "\n",
    "def merged_to_datetime(merged):\n",
    "    merged['dateTime'] = pd.to_datetime(merged['dateTime'], format='%m/%d/%y %H:%M:%S')\n",
    "    merged = merged.sort_values(by='dateTime')\n",
    "    return merged\n",
    "\n",
    "def make_new_df_value(x='',column_name=''):\n",
    "    try:\n",
    "        x = x[column_name]\n",
    "    except Exception as e:\n",
    "        print(e)\n",
    "        x = 0.0\n",
    "    return x\n",
    "    \n",
    "\n"
   ]
  },
  {
   "cell_type": "code",
   "execution_count": 12,
   "metadata": {},
   "outputs": [],
   "source": [
    "## Creating lists of all the respective files in the directory\n",
    "heart_rate_file_list = glob.glob('data/user-site-export/heart_rate-*')\n",
    "steps_file_list = glob.glob('data/user-site-export/steps-*')\n",
    "altitude_file_list = glob.glob('data/user-site-export/altitude-*')\n",
    "calories_file_list = glob.glob('data/user-site-export/calories-*')"
   ]
  },
  {
   "cell_type": "code",
   "execution_count": 13,
   "metadata": {},
   "outputs": [],
   "source": [
    "## reading json into dataframes\n",
    "heart_rate_df = get_json_to_df(file_list = heart_rate_file_list).reset_index()\n",
    "## Heart rate contains a sub json that are explicitly converted into column\n",
    "heart_rate_df['bpm'] = heart_rate_df['value'].transform(lambda x: make_new_df_value(x,'bpm'))\n",
    "heart_rate_df['confidence'] = heart_rate_df['value'].transform(lambda x: make_new_df_value(x,'confidence'))\n",
    "heart_rate_df = heart_rate_df.drop(['value','index'],axis=1)\n",
    "\n",
    "\n",
    "steps_df = get_json_to_df(file_list = steps_file_list).rename(columns={'value': 'steps'})\n",
    "\n",
    "altitude_df = get_json_to_df(file_list = altitude_file_list).rename(columns={'value': 'altitude'})\n",
    "calories_df = get_json_to_df(file_list = calories_file_list).rename(columns={'value': 'calories'})\n"
   ]
  },
  {
   "cell_type": "code",
   "execution_count": 14,
   "metadata": {
    "collapsed": true
   },
   "outputs": [],
   "source": [
    "merged = merge_dataframes(heart_rate_df,steps_df)\n",
    "merged = merge_dataframes(merged,altitude_df)\n",
    "merged = merge_dataframes(merged,calories_df)\n",
    "merged = merged_to_datetime(merged)\n",
    "\n",
    "merged.to_csv('merged_export_data.csv')\n",
    "\n",
    "merging_time = time.time()\n"
   ]
  },
  {
   "cell_type": "code",
   "execution_count": null,
   "metadata": {},
   "outputs": [],
   "source": [
    "display(merged.head(100))"
   ]
  },
  {
   "cell_type": "code",
   "execution_count": null,
   "metadata": {
    "collapsed": true
   },
   "outputs": [],
   "source": []
  }
 ],
 "metadata": {
  "kernelspec": {
   "display_name": "Python 3",
   "language": "python",
   "name": "python3"
  },
  "language_info": {
   "codemirror_mode": {
    "name": "ipython",
    "version": 3
   },
   "file_extension": ".py",
   "mimetype": "text/x-python",
   "name": "python",
   "nbconvert_exporter": "python",
   "pygments_lexer": "ipython3",
   "version": "3.6.1"
  }
 },
 "nbformat": 4,
 "nbformat_minor": 2
}
